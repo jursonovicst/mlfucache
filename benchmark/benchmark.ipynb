{
 "cells": [
  {
   "cell_type": "code",
   "execution_count": 1,
   "metadata": {
    "collapsed": true
   },
   "outputs": [],
   "source": [
    "import random\n",
    "\n",
    "from cachetools import cached, LFUCache, LRUCache, FIFOCache, RRCache\n",
    "\n",
    "from mlfucache import MLFUCache\n",
    "from benchmark.beladycache import BeladyCache"
   ]
  },
  {
   "cell_type": "code",
   "execution_count": 6,
   "outputs": [],
   "source": [
    "n = 100000\n",
    "cbase = n // 100\n",
    "size = cbase // 20"
   ],
   "metadata": {
    "collapsed": false,
    "ExecuteTime": {
     "end_time": "2024-02-21T15:25:10.972836400Z",
     "start_time": "2024-02-21T15:25:10.950452900Z"
    }
   }
  },
  {
   "cell_type": "code",
   "execution_count": 7,
   "outputs": [],
   "source": [
    "s = 1.1\n",
    "HNs = sum([k ** -s for k in range(1, cbase + 1)])\n",
    "def zipf_pmf(k, s):\n",
    "    return sum([k ** -s / HNs])\n",
    "\n",
    "p=0.01\n",
    "def geometric_pmf(k, p):\n",
    "    assert 0 < p <=1\n",
    "    return (1 - p) ** (k - 1) * p\n",
    "\n",
    "\n",
    "keys = range(1, cbase + 1)\n"
   ],
   "metadata": {
    "collapsed": false,
    "ExecuteTime": {
     "end_time": "2024-02-21T15:25:11.785610900Z",
     "start_time": "2024-02-21T15:25:11.772912400Z"
    }
   }
  },
  {
   "cell_type": "code",
   "execution_count": 8,
   "outputs": [],
   "source": [
    "class MyCache(MLFUCache):\n",
    "    def popitem(self):\n",
    "        key, value = super().popitem()\n",
    "        print('Key \"%s\" evicted with value \"%s\"' % (key, value))\n",
    "        return key, value\n"
   ],
   "metadata": {
    "collapsed": false,
    "ExecuteTime": {
     "end_time": "2024-02-21T15:25:12.394500400Z",
     "start_time": "2024-02-21T15:25:12.382630200Z"
    }
   }
  },
  {
   "cell_type": "code",
   "execution_count": 9,
   "outputs": [
    {
     "name": "stdout",
     "output_type": "stream",
     "text": [
      "zipf - RRCache, 50.95%\n",
      "zipf - FIFOCache, 50.83%\n",
      "zipf - LRUCache, 56.81%\n",
      "zipf - LFUCache, 65.63%\n",
      "zipf - MLFUCache, 68.34%\n",
      "zipf - BeladyCache, 65.70%\n",
      "uniform - RRCache, 4.97%\n",
      "uniform - FIFOCache, 4.90%\n",
      "uniform - LRUCache, 4.90%\n",
      "uniform - LFUCache, 4.98%\n",
      "uniform - MLFUCache, 4.96%\n",
      "uniform - BeladyCache, 5.15%\n",
      "geometric - RRCache, 22.87%\n",
      "geometric - FIFOCache, 22.75%\n",
      "geometric - LRUCache, 23.57%\n",
      "geometric - LFUCache, 29.43%\n",
      "geometric - MLFUCache, 37.41%\n",
      "geometric - BeladyCache, 30.70%\n"
     ]
    }
   ],
   "source": [
    "cinfo = {}\n",
    "for distr, weights in {'zipf': [zipf_pmf(k, s) for k in keys], 'uniform': [1] * cbase,\n",
    "                       'geometric': [geometric_pmf(k, p) for k in keys]}.items():\n",
    "    requests = random.choices(keys, weights=weights, k=n)\n",
    "    for cache in [RRCache(maxsize=size), FIFOCache(maxsize=size), LRUCache(maxsize=size), LFUCache(maxsize=size),\n",
    "                  MLFUCache(maxsize=size), BeladyCache(maxsize=size, future=requests)]:\n",
    "\n",
    "        @cached(cache=cache, key=lambda k: k, info=True)\n",
    "        def storage(key) -> None:\n",
    "            return None\n",
    "\n",
    "\n",
    "        for key in requests:\n",
    "            storage(key)\n",
    "\n",
    "        cinfo[distr, cache.__class__.__name__] = storage.cache_info()\n",
    "        print(f\"{distr} - {cache.__class__.__name__}, {storage.cache_info().hits / n * 100:.2f}%\")\n"
   ],
   "metadata": {
    "collapsed": false,
    "ExecuteTime": {
     "end_time": "2024-02-21T15:27:22.190367300Z",
     "start_time": "2024-02-21T15:25:12.994601800Z"
    }
   }
  },
  {
   "cell_type": "code",
   "execution_count": null,
   "outputs": [],
   "source": [],
   "metadata": {
    "collapsed": false
   }
  }
 ],
 "metadata": {
  "kernelspec": {
   "display_name": "Python 3",
   "language": "python",
   "name": "python3"
  },
  "language_info": {
   "codemirror_mode": {
    "name": "ipython",
    "version": 2
   },
   "file_extension": ".py",
   "mimetype": "text/x-python",
   "name": "python",
   "nbconvert_exporter": "python",
   "pygments_lexer": "ipython2",
   "version": "2.7.6"
  }
 },
 "nbformat": 4,
 "nbformat_minor": 0
}
