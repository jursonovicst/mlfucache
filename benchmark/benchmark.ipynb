{
 "cells": [
  {
   "cell_type": "code",
   "execution_count": 1,
   "metadata": {
    "collapsed": true,
    "ExecuteTime": {
     "end_time": "2024-02-21T13:04:01.351212Z",
     "start_time": "2024-02-21T13:04:01.335092Z"
    }
   },
   "outputs": [],
   "source": [
    "import random\n",
    "\n",
    "from cachetools import cached, LFUCache, LRUCache, FIFOCache, RRCache\n",
    "\n",
    "from mlfucache import MLFUCache\n",
    "from benchmark.beladycache import BeladyCache"
   ]
  },
  {
   "cell_type": "code",
   "execution_count": 2,
   "outputs": [],
   "source": [
    "n = 10000\n",
    "cbase = n // 10\n",
    "size = cbase // 10"
   ],
   "metadata": {
    "collapsed": false,
    "ExecuteTime": {
     "end_time": "2024-02-21T13:04:01.918935200Z",
     "start_time": "2024-02-21T13:04:01.906126400Z"
    }
   }
  },
  {
   "cell_type": "code",
   "execution_count": 3,
   "outputs": [],
   "source": [
    "s = 1.1\n",
    "\n",
    "HNs = sum([k ** -s for k in range(1, cbase + 1)])\n",
    "\n",
    "\n",
    "def cdf(k, s):\n",
    "    return sum([k ** -s / HNs])\n",
    "\n",
    "\n",
    "keys = range(1, cbase + 1)\n",
    "weights = [cdf(k, s) for k in keys]\n",
    "requests = random.choices(keys, weights=weights, k=n)"
   ],
   "metadata": {
    "collapsed": false,
    "ExecuteTime": {
     "end_time": "2024-02-21T13:04:02.861985Z",
     "start_time": "2024-02-21T13:04:02.828963Z"
    }
   }
  },
  {
   "cell_type": "code",
   "execution_count": 4,
   "outputs": [],
   "source": [
    "class MyCache(MLFUCache):\n",
    "    def popitem(self):\n",
    "        key, value = super().popitem()\n",
    "        print('Key \"%s\" evicted with value \"%s\"' % (key, value))\n",
    "        return key, value\n"
   ],
   "metadata": {
    "collapsed": false,
    "ExecuteTime": {
     "end_time": "2024-02-21T13:04:03.898111400Z",
     "start_time": "2024-02-21T13:04:03.881977Z"
    }
   }
  },
  {
   "cell_type": "code",
   "execution_count": 5,
   "outputs": [
    {
     "name": "stdout",
     "output_type": "stream",
     "text": [
      "RRCache, CacheInfo(hits=6148, misses=3852, maxsize=100, currsize=100)\n",
      "FIFOCache, CacheInfo(hits=6111, misses=3889, maxsize=100, currsize=100)\n",
      "LRUCache, CacheInfo(hits=6629, misses=3371, maxsize=100, currsize=100)\n",
      "LFUCache, CacheInfo(hits=7239, misses=2761, maxsize=100, currsize=100)\n",
      "MLFUCache, CacheInfo(hits=7425, misses=2575, maxsize=100, currsize=100)\n",
      "BeladyCache, CacheInfo(hits=6811, misses=3189, maxsize=100, currsize=100)\n"
     ]
    }
   ],
   "source": [
    "for cache in [RRCache(maxsize=size), FIFOCache(maxsize=size), LRUCache(maxsize=size), LFUCache(maxsize=size),\n",
    "              MLFUCache(maxsize=size), BeladyCache(maxsize=size, future=requests)]:\n",
    "\n",
    "    @cached(cache=cache, key=lambda k: k, info=True)\n",
    "    def storage(key) -> None:\n",
    "        return None\n",
    "\n",
    "\n",
    "    for key in requests:\n",
    "        storage(key)\n",
    "\n",
    "    print(f\"{cache.__class__.__name__}, {storage.cache_info()}\")\n"
   ],
   "metadata": {
    "collapsed": false,
    "ExecuteTime": {
     "end_time": "2024-02-21T13:04:06.009939700Z",
     "start_time": "2024-02-21T13:04:04.940640100Z"
    }
   }
  },
  {
   "cell_type": "code",
   "execution_count": null,
   "outputs": [],
   "source": [],
   "metadata": {
    "collapsed": false
   }
  }
 ],
 "metadata": {
  "kernelspec": {
   "display_name": "Python 3",
   "language": "python",
   "name": "python3"
  },
  "language_info": {
   "codemirror_mode": {
    "name": "ipython",
    "version": 2
   },
   "file_extension": ".py",
   "mimetype": "text/x-python",
   "name": "python",
   "nbconvert_exporter": "python",
   "pygments_lexer": "ipython2",
   "version": "2.7.6"
  }
 },
 "nbformat": 4,
 "nbformat_minor": 0
}
