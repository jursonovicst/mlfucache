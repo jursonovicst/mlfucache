{
 "cells": [
  {
   "cell_type": "code",
   "execution_count": 1,
   "metadata": {
    "collapsed": true
   },
   "outputs": [],
   "source": [
    "import functools\n",
    "import random\n",
    "\n",
    "import numpy as np\n",
    "from cachetools import LFUCache, LRUCache, FIFOCache, RRCache, Cache\n",
    "\n",
    "from benchmark.beladycache import BeladyCache\n",
    "from mlfucache import MLFUCache"
   ]
  },
  {
   "cell_type": "code",
   "execution_count": 2,
   "outputs": [],
   "source": [
    "n = 100000\n",
    "cbase = n // 100\n",
    "size = cbase // 20"
   ],
   "metadata": {
    "collapsed": false,
    "ExecuteTime": {
     "end_time": "2024-02-21T15:25:10.972836400Z",
     "start_time": "2024-02-21T15:25:10.950452900Z"
    }
   }
  },
  {
   "cell_type": "code",
   "execution_count": 3,
   "outputs": [],
   "source": [
    "s = 1.1\n",
    "HNs = sum([k ** -s for k in range(1, cbase + 1)])\n",
    "\n",
    "\n",
    "def zipf_pmf(k, s):\n",
    "    return sum([k ** -s / HNs])\n",
    "\n",
    "\n",
    "p = 0.01\n",
    "\n",
    "\n",
    "def geometric_pmf(k, p):\n",
    "    assert 0 < p <= 1\n",
    "    return (1 - p) ** (k - 1) * p\n",
    "\n",
    "\n",
    "keys = range(1, cbase + 1)\n"
   ],
   "metadata": {
    "collapsed": false,
    "ExecuteTime": {
     "end_time": "2024-02-21T15:25:11.785610900Z",
     "start_time": "2024-02-21T15:25:11.772912400Z"
    }
   }
  },
  {
   "cell_type": "code",
   "execution_count": 6,
   "outputs": [],
   "source": [
    "def mycached(cache: Cache):\n",
    "    def decorator(func):\n",
    "        hits = np.ndarray(shape=(0, 2))\n",
    "\n",
    "        def wrapper(key):\n",
    "            nonlocal hits\n",
    "            try:\n",
    "                result = cache[key]\n",
    "                hits = np.append(hits, [[key, True]], axis=0)\n",
    "                return result\n",
    "            except KeyError:\n",
    "                hits = np.append(hits, [[key, False]], axis=0)\n",
    "            v = func(key)\n",
    "            try:\n",
    "                cache[key] = v\n",
    "            except ValueError:\n",
    "                pass  # value too large\n",
    "            return v\n",
    "\n",
    "        def cache_clear() -> None:\n",
    "            nonlocal hits\n",
    "            cache.clear()\n",
    "            hits = np.ndarray(shape=(0, 2))\n",
    "\n",
    "        def nrequests() -> int:\n",
    "            nonlocal hits\n",
    "            return len(hits)\n",
    "\n",
    "        def chr() -> float:\n",
    "            nonlocal hits\n",
    "            return sum(hits[:, 1]) / len(hits)\n",
    "\n",
    "        wrapper.cache = cache\n",
    "        wrapper.cache_clear = cache_clear\n",
    "        wrapper.nrequests = nrequests\n",
    "        wrapper.chr = chr\n",
    "        #        wrapper.cache_info = cache_info\n",
    "\n",
    "        return functools.update_wrapper(wrapper, func)\n",
    "\n",
    "    return decorator"
   ],
   "metadata": {
    "collapsed": false,
    "ExecuteTime": {
     "end_time": "2024-02-21T15:25:12.394500400Z",
     "start_time": "2024-02-21T15:25:12.382630200Z"
    }
   }
  },
  {
   "cell_type": "code",
   "execution_count": null,
   "outputs": [
    {
     "name": "stdout",
     "output_type": "stream",
     "text": [
      "zipf - RRCache, 50.79%\n",
      "zipf - FIFOCache, 50.79%\n",
      "zipf - LRUCache, 56.74%\n",
      "zipf - LFUCache, 66.81%\n",
      "zipf - MLFUCache, 68.16%\n",
      "zipf - BeladyCache, 64.75%\n",
      "uniform - RRCache, 4.95%\n",
      "uniform - FIFOCache, 4.95%\n",
      "uniform - LRUCache, 4.94%\n",
      "uniform - LFUCache, 5.07%\n",
      "uniform - MLFUCache, 5.05%\n",
      "uniform - BeladyCache, 4.93%\n",
      "geometric - RRCache, 22.97%\n",
      "geometric - FIFOCache, 22.69%\n",
      "geometric - LRUCache, 23.72%\n",
      "geometric - LFUCache, 31.26%\n",
      "geometric - MLFUCache, 37.70%\n"
     ]
    }
   ],
   "source": [
    "cinfo = {}\n",
    "for distr, weights in {'zipf': [zipf_pmf(k, s) for k in keys], 'uniform': [1] * cbase,\n",
    "                       'geometric': [geometric_pmf(k, p) for k in keys]}.items():\n",
    "    requests = random.choices(keys, weights=weights, k=n)\n",
    "    for cache in [RRCache(maxsize=size), FIFOCache(maxsize=size), LRUCache(maxsize=size), LFUCache(maxsize=size),\n",
    "                  MLFUCache(maxsize=size), BeladyCache(maxsize=size, future=requests)]:\n",
    "\n",
    "        @mycached(cache=cache)\n",
    "        def storage(key) -> None:\n",
    "            return None\n",
    "\n",
    "\n",
    "        assert n == len(requests), f\"{len(requests)}\"\n",
    "\n",
    "        for key in requests:\n",
    "            storage(key)\n",
    "\n",
    "        assert storage.nrequests() == n, f\"requests missmatch {storage.nrequests()}\"\n",
    "\n",
    "        print(f\"{distr} - {cache.__class__.__name__}, {storage.chr() * 100:.2f}%\")\n"
   ],
   "metadata": {
    "collapsed": false,
    "ExecuteTime": {
     "end_time": "2024-02-21T15:27:22.190367300Z",
     "start_time": "2024-02-21T15:25:12.994601800Z"
    },
    "pycharm": {
     "is_executing": true
    }
   }
  },
  {
   "cell_type": "code",
   "execution_count": null,
   "outputs": [],
   "source": [],
   "metadata": {
    "collapsed": false
   }
  },
  {
   "cell_type": "code",
   "execution_count": null,
   "outputs": [],
   "source": [],
   "metadata": {
    "collapsed": false
   }
  }
 ],
 "metadata": {
  "kernelspec": {
   "display_name": "Python 3",
   "language": "python",
   "name": "python3"
  },
  "language_info": {
   "codemirror_mode": {
    "name": "ipython",
    "version": 2
   },
   "file_extension": ".py",
   "mimetype": "text/x-python",
   "name": "python",
   "nbconvert_exporter": "python",
   "pygments_lexer": "ipython2",
   "version": "2.7.6"
  }
 },
 "nbformat": 4,
 "nbformat_minor": 0
}
